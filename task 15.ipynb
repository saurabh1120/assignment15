{
 "cells": [
  {
   "cell_type": "markdown",
   "metadata": {},
   "source": [
    "# Task 15 \n",
    "# Name- Saurabh Sinha\n",
    "# Registration id- SIRSS1263\n"
   ]
  },
  {
   "cell_type": "markdown",
   "metadata": {},
   "source": [
    "### Q.1) Given an array Arr of N positive integers, find K largest elements from the array. The output elements should be printed in decreasing order."
   ]
  },
  {
   "cell_type": "code",
   "execution_count": null,
   "metadata": {},
   "outputs": [],
   "source": [
    "def KL(arr,k):\n",
    "    arr.sort(reverse=True)\n",
    "    \n",
    "    for i in range(k):\n",
    "        print(arr[i],end=\" \")"
   ]
  },
  {
   "cell_type": "code",
   "execution_count": null,
   "metadata": {},
   "outputs": [],
   "source": [
    "# arr=[12,5,787,1,23]\n",
    "# k=2\n",
    "arr=[1,23,12,9,30,2,50]\n",
    "k=3\n",
    "KL(arr,k)"
   ]
  },
  {
   "cell_type": "markdown",
   "metadata": {},
   "source": [
    "### Q.2) You are given weights and values of N items, put these items in a knapsack of capacity W to get the maximum total value in the knapsack.\n",
    "### Note that we have only one quantity of each item. In other words, given two integer arrays val[0..N-1] and wt[0..N-1] which represent values and weights associated with N items respectively. Also given an integer W which represents knapsack capacity, find out the maximum value subset of val[] such that sum of the weights of this subset is smaller than or equal to W. \n",
    "### You cannot break an item, either pick the complete item or don’t pick it (0-1 property)."
   ]
  },
  {
   "cell_type": "code",
   "execution_count": null,
   "metadata": {},
   "outputs": [],
   "source": [
    "def KS(w,wt,val,n):\n",
    "    if n==0 or w==0:\n",
    "        return 0\n",
    "    \n",
    "    if (wt[n-1]>w):\n",
    "        return KS(w,wt,val,n-1)\n",
    "    \n",
    "    else:\n",
    "        return max(val[n-1]+KS(w-wt[n-1],wt,val,n-1),KS(w,wt,val,n-1))"
   ]
  },
  {
   "cell_type": "code",
   "execution_count": null,
   "metadata": {},
   "outputs": [],
   "source": [
    "# val=[1,2,3]\n",
    "# wt=[4,5,1]\n",
    "# w=4\n",
    "\n",
    "val=[1,2,3]\n",
    "wt=[4,5,6]\n",
    "w=3\n",
    "\n",
    "n=len(val)\n",
    "print(KS(w,wt,val,n))\n",
    "\n"
   ]
  },
  {
   "cell_type": "markdown",
   "metadata": {},
   "source": [
    "### Q.3) Given two sequences, find the length of longest subsequence present in both of them. Both the strings are of uppercase."
   ]
  },
  {
   "cell_type": "code",
   "execution_count": null,
   "metadata": {},
   "outputs": [],
   "source": [
    "def LCSLength(X, Y, m, n):\n",
    "    if m == 0 or n == 0:\n",
    "        return 0\n",
    "\n",
    "    if X[m - 1] == Y[n - 1]:\n",
    "        return LCSLength(X, Y, m - 1, n - 1) + 1\n",
    "\n",
    "    return max(LCSLength(X, Y, m, n - 1), LCSLength(X, Y, m - 1, n))\n",
    "\n",
    "\n",
    "if __name__ == '__main__':\n",
    "\n",
    "    X=\"ABCDGH\"\n",
    "    Y=\"AEDFHR\"\n",
    "      \n",
    "      \n",
    "\n",
    "    print(\"Length is \",LCSLength(X, Y, len(X), len(Y)))"
   ]
  },
  {
   "cell_type": "markdown",
   "metadata": {},
   "source": [
    "### Q.4)Q4. Moving Average:\n",
    "### Problem Description: A stock price is dynamic. Its value can change multiple times in a\n",
    "### fraction of a second or remain unchanged for several minutes. Analyzing the dynamics of\n",
    "### stock price change can provide an indication for forth coming uptrend or downtrend in that stock. One such indicator is simple moving averages. Now, Harry wants to analyze the price trend of the stock on the basis of moving averages (MA).\n",
    "\n",
    "### Let’s consider a moving average of 2-day and 4-day respectively. A 2-day moving average is calculated by taking average of closing price of 2 consecutive days. A 4-day moving average is calculated by taking average of closing price of 4 consecutive days. Now, according to experts whenever a faster moving average curve (2-day MA) cuts the slower moving average (4-day MA) from below, then it is an indication of uptrend in the stock. Similarly, whenever a faster moving averages curve (2-day MA) cuts the slower moving average curve (4-day MA) from above, then it is an indication of downtrend in the stock.\n",
    "\n",
    "### Help Harry in computing the number of uptrends and downtrends in the given time for which the data is provided.\n",
    "\n",
    "### In this graph, there are three lines indicating stock closing price, moving average of two days and four days. Now we can see that between 13th and 15th there is an intersection. It is known as downtrend when moving average of fewer days is cutting downwards the more days moving average and vice versa."
   ]
  },
  {
   "cell_type": "code",
   "execution_count": null,
   "metadata": {},
   "outputs": [],
   "source": []
  }
 ],
 "metadata": {
  "kernelspec": {
   "display_name": "Python 3",
   "language": "python",
   "name": "python3"
  },
  "language_info": {
   "codemirror_mode": {
    "name": "ipython",
    "version": 3
   },
   "file_extension": ".py",
   "mimetype": "text/x-python",
   "name": "python",
   "nbconvert_exporter": "python",
   "pygments_lexer": "ipython3",
   "version": "3.8.5"
  }
 },
 "nbformat": 4,
 "nbformat_minor": 4
}
